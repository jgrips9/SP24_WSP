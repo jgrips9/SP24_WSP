{
  "nbformat": 4,
  "nbformat_minor": 0,
  "metadata": {
    "colab": {
      "provenance": []
    },
    "kernelspec": {
      "name": "python3",
      "display_name": "Python 3"
    },
    "language_info": {
      "name": "python"
    }
  },
  "cells": [
    {
      "cell_type": "markdown",
      "source": [
        "# CCSS Web Scraping in Python (BeautifulSoup) Fall 2023\n",
        "\n",
        "First. click 'File' -> 'Save a copy in Drive' to work in your own session.\n",
        "\n",
        "The first module will introduce the fundamentals of web scraping in Python by highlighting the Beautiful Soup library. The second module will explore how to navigate dynamically generated website content through interactive scraping powered by Selenium.\n",
        "\n",
        "We'll be using WebScraper.io's [webscraping test site](https://webscraper.io/test-sites/e-commerce/static) structured as an electronics e-commerce site throughout the exercises. This webpage serves as a great testing ground to learn about web scraping without having to worry about site blockages when building our initial scraper. We'll be toggling back and forth between this notebook and the website to use its Inspect feature to learn more about the site's underlying structure throughout the demos.\n"
      ],
      "metadata": {
        "id": "q8L6UD2DawPL"
      }
    },
    {
      "cell_type": "markdown",
      "source": [
        "#Module 1- Fundamentals with Beautiful Soup\n",
        "\n",
        "Let's start by importing in the libraries we'll be using within the first module:"
      ],
      "metadata": {
        "id": "1nuAabhF4V7j"
      }
    },
    {
      "cell_type": "code",
      "source": [
        "!pip install bs4\n",
        "!pip install pandas\n",
        "from bs4 import BeautifulSoup\n",
        "from urllib.request import urlopen\n",
        "import re\n",
        "import pandas as pd\n",
        "import pprint"
      ],
      "metadata": {
        "id": "cJgBYEg24VLP",
        "colab": {
          "base_uri": "https://localhost:8080/"
        },
        "outputId": "c3a430de-7fc3-4d80-be81-706fc9c779a5"
      },
      "execution_count": null,
      "outputs": [
        {
          "output_type": "stream",
          "name": "stdout",
          "text": [
            "Collecting bs4\n",
            "  Downloading bs4-0.0.1.tar.gz (1.1 kB)\n",
            "  Preparing metadata (setup.py) ... \u001b[?25l\u001b[?25hdone\n",
            "Requirement already satisfied: beautifulsoup4 in /usr/local/lib/python3.10/dist-packages (from bs4) (4.11.2)\n",
            "Requirement already satisfied: soupsieve>1.2 in /usr/local/lib/python3.10/dist-packages (from beautifulsoup4->bs4) (2.5)\n",
            "Building wheels for collected packages: bs4\n",
            "  Building wheel for bs4 (setup.py) ... \u001b[?25l\u001b[?25hdone\n",
            "  Created wheel for bs4: filename=bs4-0.0.1-py3-none-any.whl size=1256 sha256=0cfc795f3bf7b2beee034666b4f22e9a707ef4c50bf7448c4d10beb3a3bd6cba\n",
            "  Stored in directory: /root/.cache/pip/wheels/25/42/45/b773edc52acb16cd2db4cf1a0b47117e2f69bb4eb300ed0e70\n",
            "Successfully built bs4\n",
            "Installing collected packages: bs4\n",
            "Successfully installed bs4-0.0.1\n",
            "Requirement already satisfied: pandas in /usr/local/lib/python3.10/dist-packages (1.5.3)\n",
            "Requirement already satisfied: python-dateutil>=2.8.1 in /usr/local/lib/python3.10/dist-packages (from pandas) (2.8.2)\n",
            "Requirement already satisfied: pytz>=2020.1 in /usr/local/lib/python3.10/dist-packages (from pandas) (2023.3.post1)\n",
            "Requirement already satisfied: numpy>=1.21.0 in /usr/local/lib/python3.10/dist-packages (from pandas) (1.23.5)\n",
            "Requirement already satisfied: six>=1.5 in /usr/local/lib/python3.10/dist-packages (from python-dateutil>=2.8.1->pandas) (1.16.0)\n"
          ]
        }
      ]
    },
    {
      "cell_type": "markdown",
      "source": [
        "\n",
        "Our initial goal will be to retrieve the name, price, description, and number of reviews of the three electronics featured on the site home page. `urllib.requests` is a library that goes hand-in-hand with Beautiful Soup by establishing the HTTP connection we'll need with the e-commerce site to parse the site's HTML. Let's start by inspecting the full HTML of the site itself by directly using the `BeautifulSoup` method with a designated `html.parser`:"
      ],
      "metadata": {
        "id": "fVMGJUMgeOKu"
      }
    },
    {
      "cell_type": "code",
      "source": [
        "html = urlopen('https://webscraper.io/test-sites/e-commerce/static')\n",
        "bs_html = BeautifulSoup(html, 'html.parser')\n",
        "print(bs_html)"
      ],
      "metadata": {
        "id": "fGx03N9H45nu",
        "colab": {
          "base_uri": "https://localhost:8080/"
        },
        "outputId": "a9a629cc-8166-4186-c1a8-d626f3163af6"
      },
      "execution_count": null,
      "outputs": [
        {
          "output_type": "stream",
          "name": "stdout",
          "text": [
            "<!DOCTYPE html>\n",
            "\n",
            "<html lang=\"en\">\n",
            "<head>\n",
            "<!-- Google Tag Manager -->\n",
            "<script>(function (w, d, s, l, i) {\n",
            "\t\tw[l] = w[l] || [];\n",
            "\t\tw[l].push({\n",
            "\t\t\t'gtm.start':\n",
            "\t\t\t\tnew Date().getTime(), event: 'gtm.js'\n",
            "\t\t});\n",
            "\t\tvar f = d.getElementsByTagName(s)[0],\n",
            "\t\t\tj = d.createElement(s), dl = l != 'dataLayer' ? '&l=' + l : '';\n",
            "\t\tj.async = true;\n",
            "\t\tj.src =\n",
            "\t\t\t'https://www.googletagmanager.com/gtm.js?id=' + i + dl;\n",
            "\t\tf.parentNode.insertBefore(j, f);\n",
            "\t})(window, document, 'script', 'dataLayer', 'GTM-NVFPDWB');</script>\n",
            "<!-- End Google Tag Manager -->\n",
            "<title>Static | Web Scraper Test Sites</title>\n",
            "<meta charset=\"utf-8\"/>\n",
            "<meta content=\"IE=edge,chrome=1\" http-equiv=\"X-UA-Compatible\"/>\n",
            "<meta content=\"web scraping,Web Scraper,Chrome extension,Crawling,Cross platform scraper\" name=\"keywords\">\n",
            "<meta content=\"The most popular web scraping extension. Start scraping in minutes. Automate your tasks with our Cloud Scraper. No software to download, no coding needed.\" name=\"description\">\n",
            "<link href=\"/favicon.png\" rel=\"icon\" sizes=\"128x128\"/>\n",
            "<meta content=\"width=device-width, initial-scale=1.0\" name=\"viewport\"/>\n",
            "<link href=\"https://fonts.googleapis.com\" rel=\"preconnect\"/>\n",
            "<link crossorigin=\"\" href=\"https://fonts.gstatic.com\" rel=\"preconnect\"/>\n",
            "<link href=\"https://fonts.googleapis.com/css2?family=Roboto:wght@400;500;600&amp;display=swap\" rel=\"stylesheet\"/>\n",
            "<link href=\"https://fonts.googleapis.com/css2?family=Montserrat:wght@300;400;500;600;700;900&amp;display=swap\" rel=\"stylesheet\"/>\n",
            "<link href=\"/css/app.css?id=06223d32356bb9de144c6b2196deeb03\" rel=\"stylesheet\"/>\n",
            "<link href=\"/css/ws-icons.css?id=425669580a5e2af2a7133aa31b1b21d3\" rel=\"stylesheet\"/>\n",
            "<link href=\"https://webscraper.io/test-sites/e-commerce/static\" rel=\"canonical\"/>\n",
            "<link href=\"/img/logo-icon.png\" rel=\"apple-touch-icon\"/>\n",
            "<script defer=\"\" src=\"/js/vendor.js?id=2ccdfd215632017e57dbdeca4a60bcaf\"></script>\n",
            "<script defer=\"\" src=\"/js/app.js?id=806927385eb5bc635d4e80efd78f7976\"></script>\n",
            "</meta></meta></head>\n",
            "<body>\n",
            "<!-- Google Tag Manager (noscript) -->\n",
            "<noscript>\n",
            "<iframe height=\"0\" src=\"https://www.googletagmanager.com/ns.html?id=GTM-NVFPDWB\" style=\"display:none;visibility:hidden\" width=\"0\"></iframe>\n",
            "</noscript>\n",
            "<!-- End Google Tag Manager (noscript) -->\n",
            "<header class=\"navbar fixed-top navbar-expand-lg navbar-dark navbar-static\" role=\"banner\">\n",
            "<div class=\"container\">\n",
            "<div class=\"navbar-header\">\n",
            "<a data-bs-target=\".side-collapse\" data-bs-target-2=\".side-collapse-container\" data-bs-toggle=\"collapse-side\">\n",
            "<button aria-controls=\"navbar\" aria-expanded=\"false\" class=\"navbar-toggler float-end collapsed\" data-bs-target=\"#navbar\" data-bs-target-2=\".side-collapse-container\" data-bs-target-3=\".side-collapse\" data-bs-toggle=\"collapse\" type=\"button\">\n",
            "<span class=\"visually-hidden\">Toggle navigation</span>\n",
            "<span class=\"icon-bar top-bar\"></span>\n",
            "<span class=\"icon-bar middle-bar\"></span>\n",
            "<span class=\"icon-bar bottom-bar\"></span>\n",
            "<span class=\"icon-bar extra-bottom-bar\"></span>\n",
            "</button>\n",
            "</a>\n",
            "<div class=\"navbar-brand\">\n",
            "<a href=\"/\"><img alt=\"Web Scraper\" src=\"/img/logo_white.svg\"/></a>\n",
            "</div>\n",
            "</div>\n",
            "<div class=\"side-collapse in\">\n",
            "<nav class=\"navbar-collapse collapse\" id=\"navbar\" role=\"navigation\">\n",
            "<ul class=\"nav navbar-nav navbar-right\">\n",
            "<li class=\"nav-item\">\n",
            "<a class=\"nav-link menuitm\" href=\"/\">\n",
            "<p>Web Scraper</p>\n",
            "<div class=\"crta\"></div>\n",
            "</a>\n",
            "</li>\n",
            "<li class=\"nav-item\">\n",
            "<a class=\"nav-link menuitm\" href=\"/cloud-scraper\">\n",
            "<p>Cloud Scraper</p>\n",
            "<div class=\"crta\"></div>\n",
            "</a>\n",
            "</li>\n",
            "<li class=\"nav-item\">\n",
            "<a class=\"nav-link menuitm\" href=\"/pricing\">\n",
            "<p>Pricing</p>\n",
            "<div class=\"crta\"></div>\n",
            "</a>\n",
            "</li>\n",
            "<li class=\"nav-item dropdown\">\n",
            "<a aria-expanded=\"false\" aria-haspopup=\"true\" class=\"menuitm nav-link dropdown-toggle\" data-bs-toggle=\"dropdown\" href=\"#\" id=\"dropdownMenuLink\" role=\"button\">\n",
            "<p>Learn</p>\n",
            "<div class=\"crta\"></div>\n",
            "</a>\n",
            "<ul aria-labelledby=\"dropdownMenuLink\" class=\"dropdown-menu\">\n",
            "<li>\n",
            "<a class=\"dropdown-item\" href=\"/documentation\">Documentation</a>\n",
            "</li>\n",
            "<li>\n",
            "<a class=\"dropdown-item\" href=\"/tutorials\">Video Tutorials</a>\n",
            "</li>\n",
            "<li>\n",
            "<a class=\"dropdown-item\" href=\"/how-to-videos\">How to</a>\n",
            "</li>\n",
            "<li>\n",
            "<a class=\"dropdown-item\" href=\"/test-sites\">Test Sites</a>\n",
            "</li>\n",
            "<li>\n",
            "<a class=\"dropdown-item\" href=\"https://forum.webscraper.io/\" rel=\"noopener\" target=\"_blank\">Forum</a>\n",
            "</li>\n",
            "</ul>\n",
            "</li>\n",
            "<li class=\"nav-item\">\n",
            "<a class=\"nav-link btn-menu1 install-extension\" href=\"https://chrome.google.com/webstore/detail/web-scraper/jnhgnonknehpejjnehehllkliplmbmhn?hl=en\" target=\"_blank\">Install</a>\n",
            "</li>\n",
            "<li class=\"nav-item\">\n",
            "<a class=\"nav-link btn-menu2\" href=\"https://cloud.webscraper.io/\">Cloud Login</a>\n",
            "</li>\n",
            "</ul>\n",
            "</nav>\n",
            "</div>\n",
            "</div>\n",
            "</header>\n",
            "<div class=\"wrapper\">\n",
            "<div class=\"formenu-here container-fluid\">\n",
            "</div>\n",
            "<div class=\"container-fluid blog-hero\">\n",
            "<div class=\"container\">\n",
            "<div class=\"row\">\n",
            "<div class=\"col-lg-12\">\n",
            "<h1>Test Sites</h1>\n",
            "</div>\n",
            "</div>\n",
            "</div>\n",
            "</div>\n",
            "<div class=\"container test-site\">\n",
            "<div class=\"row\">\n",
            "<div class=\"col-lg-3 sidebar\">\n",
            "<div class=\"navbar-light sidebar\" role=\"navigation\">\n",
            "<div class=\"sidebar-nav navbar-collapse\">\n",
            "<ul class=\"nav flex-column\" id=\"side-menu\">\n",
            "<li class=\"nav-item active\">\n",
            "<a class=\"nav-link\" href=\"/test-sites/e-commerce/static\">Home</a>\n",
            "</li>\n",
            "<li class=\"nav-item\">\n",
            "<a class=\"category-link nav-link\" href=\"/test-sites/e-commerce/static/phones\">\n",
            "\t\t\t\t\tPhones\n",
            "\t\t\t\t\t<i class=\"ws-icon ws-icon-right\"></i>\n",
            "</a>\n",
            "</li>\n",
            "<li class=\"nav-item\">\n",
            "<a class=\"category-link nav-link\" href=\"/test-sites/e-commerce/static/computers\">\n",
            "\t\t\t\t\tComputers\n",
            "\t\t\t\t\t<i class=\"ws-icon ws-icon-right\"></i>\n",
            "</a>\n",
            "</li>\n",
            "</ul>\n",
            "</div>\n",
            "</div>\n",
            "</div>\n",
            "<div class=\"col-lg-9\">\n",
            "<div class=\"jumbotron\">\n",
            "<h1>E-commerce training site</h1>\n",
            "<p class=\"lead\">\n",
            "\t\t\tWelcome to WebScraper e-commerce site. You can use this site for training\n",
            "\t\t\tto learn how to use the Web Scraper. Items listed here are not for sale.\n",
            "\t\t</p>\n",
            "</div>\n",
            "<h2>Top items being scraped right now</h2>\n",
            "<div class=\"row\">\n",
            "<div class=\"col-md-4 col-xl-4 col-lg-4\">\n",
            "<div class=\"card product-wrapper thumbnail\">\n",
            "<div class=\"card-body\">\n",
            "<img alt=\"item\" class=\"img-fluid card-img-top image img-responsive\" src=\"/images/test-sites/e-commerce/items/cart2.png\"/>\n",
            "<div class=\"caption\">\n",
            "<h4 class=\"float-end price card-title pull-right\">$1333.00</h4>\n",
            "<h4>\n",
            "<a class=\"title\" href=\"/test-sites/e-commerce/static/product/623\" title='Apple MacBook Pro 13\" Space Gray'>Apple MacBook...</a>\n",
            "</h4>\n",
            "<p class=\"description card-text\">Apple MacBook Pro 13\" Space Gray, Core i5 2.3GHz, 8GB, 128GB SSD, Iris Plus 640, ENG</p>\n",
            "</div>\n",
            "<div class=\"ratings\">\n",
            "<p class=\"float-end review-count\">0 reviews</p>\n",
            "<p data-rating=\"1\">\n",
            "<span class=\"ws-icon ws-icon-star\"></span>\n",
            "</p>\n",
            "</div>\n",
            "</div>\n",
            "</div>\n",
            "</div>\n",
            "<div class=\"col-md-4 col-xl-4 col-lg-4\">\n",
            "<div class=\"card product-wrapper thumbnail\">\n",
            "<div class=\"card-body\">\n",
            "<img alt=\"item\" class=\"img-fluid card-img-top image img-responsive\" src=\"/images/test-sites/e-commerce/items/cart2.png\"/>\n",
            "<div class=\"caption\">\n",
            "<h4 class=\"float-end price card-title pull-right\">$1133.91</h4>\n",
            "<h4>\n",
            "<a class=\"title\" href=\"/test-sites/e-commerce/static/product/592\" title=\"Lenovo Legion Y520\">Lenovo Legion...</a>\n",
            "</h4>\n",
            "<p class=\"description card-text\">Lenovo Legion Y520, 15.6\" FHD, Core i7-7700HQ, 8GB, 128 GB SSD + 1TB HDD, GTX 1050 4GB, Windows 10 Home</p>\n",
            "</div>\n",
            "<div class=\"ratings\">\n",
            "<p class=\"float-end review-count\">13 reviews</p>\n",
            "<p data-rating=\"1\">\n",
            "<span class=\"ws-icon ws-icon-star\"></span>\n",
            "</p>\n",
            "</div>\n",
            "</div>\n",
            "</div>\n",
            "</div>\n",
            "<div class=\"col-md-4 col-xl-4 col-lg-4\">\n",
            "<div class=\"card product-wrapper thumbnail\">\n",
            "<div class=\"card-body\">\n",
            "<img alt=\"item\" class=\"img-fluid card-img-top image img-responsive\" src=\"/images/test-sites/e-commerce/items/cart2.png\"/>\n",
            "<div class=\"caption\">\n",
            "<h4 class=\"float-end price card-title pull-right\">$1144.20</h4>\n",
            "<h4>\n",
            "<a class=\"title\" href=\"/test-sites/e-commerce/static/product/596\" title=\"Dell Inspiron 15 (7567) Black\">Dell Inspiron...</a>\n",
            "</h4>\n",
            "<p class=\"description card-text\">Dell Inspiron 15 (7567) Black, 15.6\" FHD, Core i7-7700HQ, 8GB, 1TB, GeForce GTX 1050 Ti 4GB, Linux + Windows 10 Home</p>\n",
            "</div>\n",
            "<div class=\"ratings\">\n",
            "<p class=\"float-end review-count\">2 reviews</p>\n",
            "<p data-rating=\"1\">\n",
            "<span class=\"ws-icon ws-icon-star\"></span>\n",
            "</p>\n",
            "</div>\n",
            "</div>\n",
            "</div>\n",
            "</div>\n",
            "</div>\n",
            "<div id=\"static-pagination\">\n",
            "</div>\n",
            "</div>\n",
            "</div>\n",
            "</div>\n",
            "<div class=\"clearfix\"></div>\n",
            "<div class=\"push\"></div>\n",
            "</div>\n",
            "<div class=\"container-fluid footer\" id=\"layout-footer\">\n",
            "<div class=\"container\">\n",
            "<div class=\"row\">\n",
            "<div class=\"col-lg-3\">\n",
            "<ul>\n",
            "<li><p>Products</p></li>\n",
            "<li>\n",
            "<a href=\"/\">Web Scraper browser extension</a>\n",
            "</li>\n",
            "<li>\n",
            "<a href=\"/pricing\">Web Scraper Cloud</a>\n",
            "</li>\n",
            "</ul>\n",
            "</div>\n",
            "<div class=\"col-lg-3\">\n",
            "<ul>\n",
            "<li><p>Company</p></li>\n",
            "<li>\n",
            "<a href=\"/about-us\">About us</a>\n",
            "</li>\n",
            "<li>\n",
            "<a href=\"/contact\">Contact</a>\n",
            "</li>\n",
            "<li>\n",
            "<a href=\"/privacy-policy\">Website Privacy Policy</a>\n",
            "</li>\n",
            "<li>\n",
            "<a href=\"/extension-privacy-policy\">Browser Extension Privacy Policy</a>\n",
            "</li>\n",
            "<li>\n",
            "<a href=\"https://webscraper.io/downloads/Web_Scraper_Media_Kit.zip\">Media kit</a>\n",
            "</li>\n",
            "<li><a href=\"/jobs\">Jobs</a></li>\n",
            "</ul>\n",
            "</div>\n",
            "<div class=\"col-lg-3\">\n",
            "<ul>\n",
            "<li><p>Resources</p></li>\n",
            "<li><a href=\"/blog\">Blog</a></li>\n",
            "<li>\n",
            "<a href=\"/documentation\">Documentation</a>\n",
            "</li>\n",
            "<li>\n",
            "<a href=\"/tutorials\">Video Tutorials</a>\n",
            "</li>\n",
            "<li>\n",
            "<a href=\"/screenshots\">Screenshots</a>\n",
            "</li>\n",
            "<li>\n",
            "<a href=\"/test-sites\">Test Sites</a>\n",
            "</li>\n",
            "<li>\n",
            "<a href=\"https://forum.webscraper.io/\" rel=\"noopener\" target=\"_blank\">Forum</a>\n",
            "</li>\n",
            "<li>\n",
            "<a href=\"https://status.webscraper.io/\" rel=\"noopener\" target=\"_blank\">Status</a>\n",
            "</li>\n",
            "</ul>\n",
            "</div>\n",
            "<div class=\"col-lg-3\">\n",
            "<ul>\n",
            "<li><p>CONTACT US</p></li>\n",
            "<li>\n",
            "<a href=\"mailto:info@webscraper.io\">info@webscraper.io</a>\n",
            "</li>\n",
            "<li>Ubelu 5-71,<br/> Adazi, Latvia, LV-2164</li>\n",
            "</ul>\n",
            "<ul class=\"smedia\">\n",
            "<li>\n",
            "<a href=\"https://www.facebook.com/webscraperio/\" rel=\"noopener\" target=\"_blank\">\n",
            "<i class=\"ws-icon ws-icon-facebook-f\"></i>\n",
            "</a>\n",
            "</li>\n",
            "<li>\n",
            "<a href=\"https://twitter.com/webscraperio\" rel=\"noopener\" target=\"_blank\">\n",
            "<i class=\"ws-icon ws-icon-twitter\"></i>\n",
            "</a>\n",
            "</li>\n",
            "</ul>\n",
            "</div>\n",
            "</div>\n",
            "<div class=\"row\">\n",
            "<div class=\"col-lg-12\">\n",
            "<p class=\"copyright\">Copyright © 2023\n",
            "\t\t\t\t\t<a href=\"#\">Web Scraper</a> | All rights\n",
            "\t\t\t\t\treserved</p>\n",
            "</div>\n",
            "</div>\n",
            "</div>\n",
            "</div>\n",
            "</body>\n",
            "</html>\n",
            "\n"
          ]
        }
      ]
    },
    {
      "cell_type": "markdown",
      "source": [
        "### HTML Tags & Attributes\n",
        "\n",
        "- **Tags** are used to represent different component types within an HTML file, such as the `<title>`, `<div>` for a designated section within the document, and `<h1>` for the first header.\n",
        "- HTML tags usually require a closing tag such as </title> or </div>. Sections in HTML begin and end.\n",
        "- HTML tags will often include additional information within the tag itself that are known as **attributes**. You can think of attributes as an additional identifier for a given tag.\n",
        "- Attributes are marked by key words such as `class`, `id`, or `href` (referring to hyperlinks) followed by an equal sign and a label such as `<div class='container'>`\n",
        "\n",
        "Here are two external references for learning more about the available [tags](https://www.w3schools.com/tags/default.asp) and [attributes](https://www.w3schools.com/tags/ref_attributes.asp) within HTML.\n",
        "\n",
        "\n",
        "Our created Beautiful Soup parsed HTML object offers a variety of methods that allows us to look at specific tags within the HTML. The following retrieves the first specified instance of the `h4` heading tag in the HTML file. Then finds all instances of `h4` heading tag in the HTML file:"
      ],
      "metadata": {
        "id": "u2LF-NeB49ek"
      }
    },
    {
      "cell_type": "code",
      "source": [
        "#find option pulls the first occurence.\n",
        "name = bs_html.find('h4')\n",
        "print(name)\n",
        "print(name.get_text())\n",
        "\n",
        "#find_all includes all tags.\n",
        "names = bs_html.find_all('h4')\n",
        "print(names)"
      ],
      "metadata": {
        "id": "eM8VXs6Q8izM",
        "colab": {
          "base_uri": "https://localhost:8080/"
        },
        "outputId": "f7dea543-ba67-4837-de24-b21456ae6192"
      },
      "execution_count": null,
      "outputs": [
        {
          "output_type": "stream",
          "name": "stdout",
          "text": [
            "<h4 class=\"float-end price card-title pull-right\">$1333.00</h4>\n",
            "$1333.00\n",
            "[<h4 class=\"float-end price card-title pull-right\">$1333.00</h4>, <h4>\n",
            "<a class=\"title\" href=\"/test-sites/e-commerce/static/product/623\" title='Apple MacBook Pro 13\" Space Gray'>Apple MacBook...</a>\n",
            "</h4>, <h4 class=\"float-end price card-title pull-right\">$1133.91</h4>, <h4>\n",
            "<a class=\"title\" href=\"/test-sites/e-commerce/static/product/592\" title=\"Lenovo Legion Y520\">Lenovo Legion...</a>\n",
            "</h4>, <h4 class=\"float-end price card-title pull-right\">$1144.20</h4>, <h4>\n",
            "<a class=\"title\" href=\"/test-sites/e-commerce/static/product/596\" title=\"Dell Inspiron 15 (7567) Black\">Dell Inspiron...</a>\n",
            "</h4>]\n"
          ]
        }
      ]
    },
    {
      "cell_type": "markdown",
      "source": [
        "Attributes are used to distinguish different subgroups of the same base HTML tag. This facilitates the easy retrieval of distinct HTML elements within a web scraping program that we would otherwise struggle to differentiate due to having the same tags. An example of this is the e-commerce test site `<div class=\"caption\">` and `<div class=\"ratings\">` to distinguish between the product descriptions and the ratings of the items being displayed on the website.\n",
        "\n",
        "We can use the `find_all` method to identify any of the `div` tags with their `class` attribute specified as a `caption` as follows:"
      ],
      "metadata": {
        "id": "rIz4C_C_5cVp"
      }
    },
    {
      "cell_type": "code",
      "source": [
        "bs_html.find_all('div', {'class':'caption'})"
      ],
      "metadata": {
        "id": "uo0jQz2m5oAs",
        "colab": {
          "base_uri": "https://localhost:8080/"
        },
        "outputId": "de0ad780-f609-4be7-b946-b2df45b654e2"
      },
      "execution_count": null,
      "outputs": [
        {
          "output_type": "execute_result",
          "data": {
            "text/plain": [
              "[<div class=\"caption\">\n",
              " <h4 class=\"float-end price card-title pull-right\">$1333.00</h4>\n",
              " <h4>\n",
              " <a class=\"title\" href=\"/test-sites/e-commerce/static/product/623\" title='Apple MacBook Pro 13\" Space Gray'>Apple MacBook...</a>\n",
              " </h4>\n",
              " <p class=\"description card-text\">Apple MacBook Pro 13\" Space Gray, Core i5 2.3GHz, 8GB, 128GB SSD, Iris Plus 640, ENG</p>\n",
              " </div>,\n",
              " <div class=\"caption\">\n",
              " <h4 class=\"float-end price card-title pull-right\">$1133.91</h4>\n",
              " <h4>\n",
              " <a class=\"title\" href=\"/test-sites/e-commerce/static/product/592\" title=\"Lenovo Legion Y520\">Lenovo Legion...</a>\n",
              " </h4>\n",
              " <p class=\"description card-text\">Lenovo Legion Y520, 15.6\" FHD, Core i7-7700HQ, 8GB, 128 GB SSD + 1TB HDD, GTX 1050 4GB, Windows 10 Home</p>\n",
              " </div>,\n",
              " <div class=\"caption\">\n",
              " <h4 class=\"float-end price card-title pull-right\">$1144.20</h4>\n",
              " <h4>\n",
              " <a class=\"title\" href=\"/test-sites/e-commerce/static/product/596\" title=\"Dell Inspiron 15 (7567) Black\">Dell Inspiron...</a>\n",
              " </h4>\n",
              " <p class=\"description card-text\">Dell Inspiron 15 (7567) Black, 15.6\" FHD, Core i7-7700HQ, 8GB, 1TB, GeForce GTX 1050 Ti 4GB, Linux + Windows 10 Home</p>\n",
              " </div>]"
            ]
          },
          "metadata": {},
          "execution_count": 4
        }
      ]
    },
    {
      "cell_type": "markdown",
      "source": [
        "The `get_text` method strips away the HTML tags to just express the text itself:"
      ],
      "metadata": {
        "id": "-dplJWoH5o_p"
      }
    },
    {
      "cell_type": "code",
      "source": [
        "captions = bs_html.find_all('div', {'class':'caption'})\n",
        "for name in captions:\n",
        "    print(name.get_text())"
      ],
      "metadata": {
        "id": "SEfOgp4M48wO",
        "colab": {
          "base_uri": "https://localhost:8080/"
        },
        "outputId": "5f4a4547-f838-4c96-e9ff-cd042bf42028"
      },
      "execution_count": null,
      "outputs": [
        {
          "output_type": "stream",
          "name": "stdout",
          "text": [
            "\n",
            "$1333.00\n",
            "\n",
            "Apple MacBook...\n",
            "\n",
            "Apple MacBook Pro 13\" Space Gray, Core i5 2.3GHz, 8GB, 128GB SSD, Iris Plus 640, ENG\n",
            "\n",
            "\n",
            "$1133.91\n",
            "\n",
            "Lenovo Legion...\n",
            "\n",
            "Lenovo Legion Y520, 15.6\" FHD, Core i7-7700HQ, 8GB, 128 GB SSD + 1TB HDD, GTX 1050 4GB, Windows 10 Home\n",
            "\n",
            "\n",
            "$1144.20\n",
            "\n",
            "Dell Inspiron...\n",
            "\n",
            "Dell Inspiron 15 (7567) Black, 15.6\" FHD, Core i7-7700HQ, 8GB, 1TB, GeForce GTX 1050 Ti 4GB, Linux + Windows 10 Home\n",
            "\n"
          ]
        }
      ]
    },
    {
      "cell_type": "markdown",
      "source": [
        "The basic workflow behind using Beautiful Soups' `find` and `find_all` methods is to first specify the tag you're interested in within the HTML document, and then the associated attributes that further narrows your search from the tag.\n",
        "\n",
        "We can build from this to retrieve multiple tag types at once, such as all of the headers set to the 1, 2, and 4 subheader sizes as follows:  "
      ],
      "metadata": {
        "id": "UT2aZMv75wGa"
      }
    },
    {
      "cell_type": "code",
      "source": [
        "bs_html.find_all(['h1','h2','h4'])"
      ],
      "metadata": {
        "id": "95J5bfIf5vnG",
        "colab": {
          "base_uri": "https://localhost:8080/"
        },
        "outputId": "75ec751b-720d-4fe3-9248-60c45a2402d0"
      },
      "execution_count": null,
      "outputs": [
        {
          "output_type": "execute_result",
          "data": {
            "text/plain": [
              "[<h1>Test Sites</h1>,\n",
              " <h1>E-commerce training site</h1>,\n",
              " <h2>Top items being scraped right now</h2>,\n",
              " <h4 class=\"pull-right price\">$88.99</h4>,\n",
              " <h4>\n",
              " <a class=\"title\" href=\"/test-sites/e-commerce/static/product/500\" title=\"IdeaTab A3500L\">IdeaTab A3500L</a>\n",
              " </h4>,\n",
              " <h4 class=\"pull-right price\">$899.99</h4>,\n",
              " <h4>\n",
              " <a class=\"title\" href=\"/test-sites/e-commerce/static/product/492\" title=\"Iphone\">Iphone</a>\n",
              " </h4>,\n",
              " <h4 class=\"pull-right price\">$320.99</h4>,\n",
              " <h4>\n",
              " <a class=\"title\" href=\"/test-sites/e-commerce/static/product/510\" title=\"MeMo PAD FHD 10\">MeMo PAD FHD 10</a>\n",
              " </h4>]"
            ]
          },
          "metadata": {},
          "execution_count": 36
        }
      ]
    },
    {
      "cell_type": "markdown",
      "source": [
        "We can also identify multiple attribute matches to the same tag in a single `find_all` call. We achieve this by setting our second parameter as a dictionary with the `class` attribute as the key as the attribute labels `caption` and `ratings` as values. Another way to extract what we did above."
      ],
      "metadata": {
        "id": "kMORXk7f58xE"
      }
    },
    {
      "cell_type": "code",
      "source": [
        "caption_reviews = bs_html.find_all('div', {'class':{'caption', 'ratings'}})\n",
        "for name in caption_reviews:\n",
        "    print(name.get_text())"
      ],
      "metadata": {
        "id": "1pJ0xQro6DCV",
        "colab": {
          "base_uri": "https://localhost:8080/"
        },
        "outputId": "00e7210a-dcdc-4843-9514-c0cb8b9c0241"
      },
      "execution_count": null,
      "outputs": [
        {
          "output_type": "stream",
          "name": "stdout",
          "text": [
            "\n",
            "$1333.00\n",
            "\n",
            "Apple MacBook...\n",
            "\n",
            "Apple MacBook Pro 13\" Space Gray, Core i5 2.3GHz, 8GB, 128GB SSD, Iris Plus 640, ENG\n",
            "\n",
            "\n",
            "0 reviews\n",
            "\n",
            "\n",
            "\n",
            "\n",
            "\n",
            "$1133.91\n",
            "\n",
            "Lenovo Legion...\n",
            "\n",
            "Lenovo Legion Y520, 15.6\" FHD, Core i7-7700HQ, 8GB, 128 GB SSD + 1TB HDD, GTX 1050 4GB, Windows 10 Home\n",
            "\n",
            "\n",
            "13 reviews\n",
            "\n",
            "\n",
            "\n",
            "\n",
            "\n",
            "$1144.20\n",
            "\n",
            "Dell Inspiron...\n",
            "\n",
            "Dell Inspiron 15 (7567) Black, 15.6\" FHD, Core i7-7700HQ, 8GB, 1TB, GeForce GTX 1050 Ti 4GB, Linux + Windows 10 Home\n",
            "\n",
            "\n",
            "2 reviews\n",
            "\n",
            "\n",
            "\n",
            "\n"
          ]
        }
      ]
    },
    {
      "cell_type": "markdown",
      "source": [
        "If you look closely, you'll notice how the values for the electronic goods returned from Beautiful Soup don't actually align with what you currently see when looking at the site directly via Inspect. The site is updating the items shown on the homepage outside of default values set within the HTML."
      ],
      "metadata": {
        "id": "pCYAdzp06Fe0"
      }
    },
    {
      "cell_type": "markdown",
      "source": [
        "### Saving Scraped Data\n",
        "\n",
        "After identifying the tags and attributes that will allow us to match with the specific data we're interested in collecting from the website's HTML, we'd then proceed with the actual data collection within our scraper. The `pandas` library naturally intergrates with Beautiful Soup HTML parsing by structuring different tag retrievals into designated data columns.\n",
        "\n",
        "Let's build up to creating a function that retrieves the product data we're interested in via the e-commerce site's URL and stores it within a pandas DataFrame for us. We can envision creating columns that separate out the title, description, price, and reviews of each of the products on the site's home page.\n",
        "\n",
        "(Check out [CCSS' workshop on pandas](https://github.com/ccss-rs/python-bootcamp/blob/main/pandas.ipynb) on your own if you haven't worked with Pandas before or need a refresher.)  \n",
        "\n",
        "A helpful strategy that moves us closer to our goal of producing a final data frame is using a different Beautiful Soup pattern matching of the HTML tag that has the data we're interested in with the tag's unique attributes and passing the text of all matches into a list through list comprehension statements.\n",
        "\n",
        "Here's an example for the `a` tag distinguished by the `class` attribute labeled as `title`:"
      ],
      "metadata": {
        "id": "L7_zuZsp67qy"
      }
    },
    {
      "cell_type": "markdown",
      "source": [
        "As we're building up to a function that will represent our web scraped data into a row and column format that will be ideal for final data storage on our local computer, it's often helpful to think through what data types can be handled by pandas that effectively matches column names (title, description, price, and reviews) to rows representing each scraped product.\n",
        "\n",
        "A go-to is dictionaries since the key-value structure naturally translates to a column-row format within pandas. We'll therefore create a dictionary to hold our scraped data from Beautiful Soup as follows:"
      ],
      "metadata": {
        "id": "kZjzuIFQXTWg"
      }
    },
    {
      "cell_type": "code",
      "source": [
        "caption_reviews = bs_html.find_all('div', {'class':{'caption', 'ratings'}})\n",
        "print(caption_reviews)"
      ],
      "metadata": {
        "id": "UVcS5QU2_QRT",
        "colab": {
          "base_uri": "https://localhost:8080/"
        },
        "outputId": "4a4767f5-7f5d-41a7-9fed-95dd668dabbd"
      },
      "execution_count": null,
      "outputs": [
        {
          "output_type": "stream",
          "name": "stdout",
          "text": [
            "[<div class=\"caption\">\n",
            "<h4 class=\"float-end price card-title pull-right\">$1333.00</h4>\n",
            "<h4>\n",
            "<a class=\"title\" href=\"/test-sites/e-commerce/static/product/623\" title='Apple MacBook Pro 13\" Space Gray'>Apple MacBook...</a>\n",
            "</h4>\n",
            "<p class=\"description card-text\">Apple MacBook Pro 13\" Space Gray, Core i5 2.3GHz, 8GB, 128GB SSD, Iris Plus 640, ENG</p>\n",
            "</div>, <div class=\"ratings\">\n",
            "<p class=\"float-end review-count\">0 reviews</p>\n",
            "<p data-rating=\"1\">\n",
            "<span class=\"ws-icon ws-icon-star\"></span>\n",
            "</p>\n",
            "</div>, <div class=\"caption\">\n",
            "<h4 class=\"float-end price card-title pull-right\">$1133.91</h4>\n",
            "<h4>\n",
            "<a class=\"title\" href=\"/test-sites/e-commerce/static/product/592\" title=\"Lenovo Legion Y520\">Lenovo Legion...</a>\n",
            "</h4>\n",
            "<p class=\"description card-text\">Lenovo Legion Y520, 15.6\" FHD, Core i7-7700HQ, 8GB, 128 GB SSD + 1TB HDD, GTX 1050 4GB, Windows 10 Home</p>\n",
            "</div>, <div class=\"ratings\">\n",
            "<p class=\"float-end review-count\">13 reviews</p>\n",
            "<p data-rating=\"1\">\n",
            "<span class=\"ws-icon ws-icon-star\"></span>\n",
            "</p>\n",
            "</div>, <div class=\"caption\">\n",
            "<h4 class=\"float-end price card-title pull-right\">$1144.20</h4>\n",
            "<h4>\n",
            "<a class=\"title\" href=\"/test-sites/e-commerce/static/product/596\" title=\"Dell Inspiron 15 (7567) Black\">Dell Inspiron...</a>\n",
            "</h4>\n",
            "<p class=\"description card-text\">Dell Inspiron 15 (7567) Black, 15.6\" FHD, Core i7-7700HQ, 8GB, 1TB, GeForce GTX 1050 Ti 4GB, Linux + Windows 10 Home</p>\n",
            "</div>, <div class=\"ratings\">\n",
            "<p class=\"float-end review-count\">2 reviews</p>\n",
            "<p data-rating=\"1\">\n",
            "<span class=\"ws-icon ws-icon-star\"></span>\n",
            "</p>\n",
            "</div>]\n"
          ]
        }
      ]
    },
    {
      "cell_type": "code",
      "source": [
        "title = [values.get_text() for values in bs_html.find_all('a', {'class': 'title'})]\n",
        "links = [values['href'] for values in bs_html.find_all('a', {'class': 'title'})]\n",
        "desc = [values.get_text() for values in bs_html.find_all('p', {'class': 'description'})]\n",
        "price = [values.get_text() for values in bs_html.find_all('h4', {'class': 'pull-right price'})]\n",
        "reviews = [values.get_text() for values in bs_html.find_all('p', {'class': 'pull-right'})]\n",
        "\n",
        "#Create pandas dataframe.\n",
        "data = pd.DataFrame({\n",
        "    'title': title,\n",
        "    'price': price,\n",
        "    'url': links,\n",
        "    'description': desc,\n",
        "    'reviews': reviews\n",
        "})\n",
        "display(data)"
      ],
      "metadata": {
        "id": "BTX0nLeAZlSK",
        "colab": {
          "base_uri": "https://localhost:8080/",
          "height": 399
        },
        "outputId": "83496511-c9e9-45c3-c7af-34639920eee5"
      },
      "execution_count": null,
      "outputs": [
        {
          "output_type": "error",
          "ename": "ValueError",
          "evalue": "ignored",
          "traceback": [
            "\u001b[0;31m---------------------------------------------------------------------------\u001b[0m",
            "\u001b[0;31mValueError\u001b[0m                                Traceback (most recent call last)",
            "\u001b[0;32m<ipython-input-6-97b66e2fbbe3>\u001b[0m in \u001b[0;36m<cell line: 8>\u001b[0;34m()\u001b[0m\n\u001b[1;32m      6\u001b[0m \u001b[0;34m\u001b[0m\u001b[0m\n\u001b[1;32m      7\u001b[0m \u001b[0;31m#Create pandas dataframe.\u001b[0m\u001b[0;34m\u001b[0m\u001b[0;34m\u001b[0m\u001b[0m\n\u001b[0;32m----> 8\u001b[0;31m data = pd.DataFrame({\n\u001b[0m\u001b[1;32m      9\u001b[0m     \u001b[0;34m'title'\u001b[0m\u001b[0;34m:\u001b[0m \u001b[0mtitle\u001b[0m\u001b[0;34m,\u001b[0m\u001b[0;34m\u001b[0m\u001b[0;34m\u001b[0m\u001b[0m\n\u001b[1;32m     10\u001b[0m     \u001b[0;34m'price'\u001b[0m\u001b[0;34m:\u001b[0m \u001b[0mprice\u001b[0m\u001b[0;34m,\u001b[0m\u001b[0;34m\u001b[0m\u001b[0;34m\u001b[0m\u001b[0m\n",
            "\u001b[0;32m/usr/local/lib/python3.10/dist-packages/pandas/core/frame.py\u001b[0m in \u001b[0;36m__init__\u001b[0;34m(self, data, index, columns, dtype, copy)\u001b[0m\n\u001b[1;32m    662\u001b[0m         \u001b[0;32melif\u001b[0m \u001b[0misinstance\u001b[0m\u001b[0;34m(\u001b[0m\u001b[0mdata\u001b[0m\u001b[0;34m,\u001b[0m \u001b[0mdict\u001b[0m\u001b[0;34m)\u001b[0m\u001b[0;34m:\u001b[0m\u001b[0;34m\u001b[0m\u001b[0;34m\u001b[0m\u001b[0m\n\u001b[1;32m    663\u001b[0m             \u001b[0;31m# GH#38939 de facto copy defaults to False only in non-dict cases\u001b[0m\u001b[0;34m\u001b[0m\u001b[0;34m\u001b[0m\u001b[0m\n\u001b[0;32m--> 664\u001b[0;31m             \u001b[0mmgr\u001b[0m \u001b[0;34m=\u001b[0m \u001b[0mdict_to_mgr\u001b[0m\u001b[0;34m(\u001b[0m\u001b[0mdata\u001b[0m\u001b[0;34m,\u001b[0m \u001b[0mindex\u001b[0m\u001b[0;34m,\u001b[0m \u001b[0mcolumns\u001b[0m\u001b[0;34m,\u001b[0m \u001b[0mdtype\u001b[0m\u001b[0;34m=\u001b[0m\u001b[0mdtype\u001b[0m\u001b[0;34m,\u001b[0m \u001b[0mcopy\u001b[0m\u001b[0;34m=\u001b[0m\u001b[0mcopy\u001b[0m\u001b[0;34m,\u001b[0m \u001b[0mtyp\u001b[0m\u001b[0;34m=\u001b[0m\u001b[0mmanager\u001b[0m\u001b[0;34m)\u001b[0m\u001b[0;34m\u001b[0m\u001b[0;34m\u001b[0m\u001b[0m\n\u001b[0m\u001b[1;32m    665\u001b[0m         \u001b[0;32melif\u001b[0m \u001b[0misinstance\u001b[0m\u001b[0;34m(\u001b[0m\u001b[0mdata\u001b[0m\u001b[0;34m,\u001b[0m \u001b[0mma\u001b[0m\u001b[0;34m.\u001b[0m\u001b[0mMaskedArray\u001b[0m\u001b[0;34m)\u001b[0m\u001b[0;34m:\u001b[0m\u001b[0;34m\u001b[0m\u001b[0;34m\u001b[0m\u001b[0m\n\u001b[1;32m    666\u001b[0m             \u001b[0;32mimport\u001b[0m \u001b[0mnumpy\u001b[0m\u001b[0;34m.\u001b[0m\u001b[0mma\u001b[0m\u001b[0;34m.\u001b[0m\u001b[0mmrecords\u001b[0m \u001b[0;32mas\u001b[0m \u001b[0mmrecords\u001b[0m\u001b[0;34m\u001b[0m\u001b[0;34m\u001b[0m\u001b[0m\n",
            "\u001b[0;32m/usr/local/lib/python3.10/dist-packages/pandas/core/internals/construction.py\u001b[0m in \u001b[0;36mdict_to_mgr\u001b[0;34m(data, index, columns, dtype, typ, copy)\u001b[0m\n\u001b[1;32m    491\u001b[0m             \u001b[0marrays\u001b[0m \u001b[0;34m=\u001b[0m \u001b[0;34m[\u001b[0m\u001b[0mx\u001b[0m\u001b[0;34m.\u001b[0m\u001b[0mcopy\u001b[0m\u001b[0;34m(\u001b[0m\u001b[0;34m)\u001b[0m \u001b[0;32mif\u001b[0m \u001b[0mhasattr\u001b[0m\u001b[0;34m(\u001b[0m\u001b[0mx\u001b[0m\u001b[0;34m,\u001b[0m \u001b[0;34m\"dtype\"\u001b[0m\u001b[0;34m)\u001b[0m \u001b[0;32melse\u001b[0m \u001b[0mx\u001b[0m \u001b[0;32mfor\u001b[0m \u001b[0mx\u001b[0m \u001b[0;32min\u001b[0m \u001b[0marrays\u001b[0m\u001b[0;34m]\u001b[0m\u001b[0;34m\u001b[0m\u001b[0;34m\u001b[0m\u001b[0m\n\u001b[1;32m    492\u001b[0m \u001b[0;34m\u001b[0m\u001b[0m\n\u001b[0;32m--> 493\u001b[0;31m     \u001b[0;32mreturn\u001b[0m \u001b[0marrays_to_mgr\u001b[0m\u001b[0;34m(\u001b[0m\u001b[0marrays\u001b[0m\u001b[0;34m,\u001b[0m \u001b[0mcolumns\u001b[0m\u001b[0;34m,\u001b[0m \u001b[0mindex\u001b[0m\u001b[0;34m,\u001b[0m \u001b[0mdtype\u001b[0m\u001b[0;34m=\u001b[0m\u001b[0mdtype\u001b[0m\u001b[0;34m,\u001b[0m \u001b[0mtyp\u001b[0m\u001b[0;34m=\u001b[0m\u001b[0mtyp\u001b[0m\u001b[0;34m,\u001b[0m \u001b[0mconsolidate\u001b[0m\u001b[0;34m=\u001b[0m\u001b[0mcopy\u001b[0m\u001b[0;34m)\u001b[0m\u001b[0;34m\u001b[0m\u001b[0;34m\u001b[0m\u001b[0m\n\u001b[0m\u001b[1;32m    494\u001b[0m \u001b[0;34m\u001b[0m\u001b[0m\n\u001b[1;32m    495\u001b[0m \u001b[0;34m\u001b[0m\u001b[0m\n",
            "\u001b[0;32m/usr/local/lib/python3.10/dist-packages/pandas/core/internals/construction.py\u001b[0m in \u001b[0;36marrays_to_mgr\u001b[0;34m(arrays, columns, index, dtype, verify_integrity, typ, consolidate)\u001b[0m\n\u001b[1;32m    116\u001b[0m         \u001b[0;31m# figure out the index, if necessary\u001b[0m\u001b[0;34m\u001b[0m\u001b[0;34m\u001b[0m\u001b[0m\n\u001b[1;32m    117\u001b[0m         \u001b[0;32mif\u001b[0m \u001b[0mindex\u001b[0m \u001b[0;32mis\u001b[0m \u001b[0;32mNone\u001b[0m\u001b[0;34m:\u001b[0m\u001b[0;34m\u001b[0m\u001b[0;34m\u001b[0m\u001b[0m\n\u001b[0;32m--> 118\u001b[0;31m             \u001b[0mindex\u001b[0m \u001b[0;34m=\u001b[0m \u001b[0m_extract_index\u001b[0m\u001b[0;34m(\u001b[0m\u001b[0marrays\u001b[0m\u001b[0;34m)\u001b[0m\u001b[0;34m\u001b[0m\u001b[0;34m\u001b[0m\u001b[0m\n\u001b[0m\u001b[1;32m    119\u001b[0m         \u001b[0;32melse\u001b[0m\u001b[0;34m:\u001b[0m\u001b[0;34m\u001b[0m\u001b[0;34m\u001b[0m\u001b[0m\n\u001b[1;32m    120\u001b[0m             \u001b[0mindex\u001b[0m \u001b[0;34m=\u001b[0m \u001b[0mensure_index\u001b[0m\u001b[0;34m(\u001b[0m\u001b[0mindex\u001b[0m\u001b[0;34m)\u001b[0m\u001b[0;34m\u001b[0m\u001b[0;34m\u001b[0m\u001b[0m\n",
            "\u001b[0;32m/usr/local/lib/python3.10/dist-packages/pandas/core/internals/construction.py\u001b[0m in \u001b[0;36m_extract_index\u001b[0;34m(data)\u001b[0m\n\u001b[1;32m    664\u001b[0m             \u001b[0mlengths\u001b[0m \u001b[0;34m=\u001b[0m \u001b[0mlist\u001b[0m\u001b[0;34m(\u001b[0m\u001b[0mset\u001b[0m\u001b[0;34m(\u001b[0m\u001b[0mraw_lengths\u001b[0m\u001b[0;34m)\u001b[0m\u001b[0;34m)\u001b[0m\u001b[0;34m\u001b[0m\u001b[0;34m\u001b[0m\u001b[0m\n\u001b[1;32m    665\u001b[0m             \u001b[0;32mif\u001b[0m \u001b[0mlen\u001b[0m\u001b[0;34m(\u001b[0m\u001b[0mlengths\u001b[0m\u001b[0;34m)\u001b[0m \u001b[0;34m>\u001b[0m \u001b[0;36m1\u001b[0m\u001b[0;34m:\u001b[0m\u001b[0;34m\u001b[0m\u001b[0;34m\u001b[0m\u001b[0m\n\u001b[0;32m--> 666\u001b[0;31m                 \u001b[0;32mraise\u001b[0m \u001b[0mValueError\u001b[0m\u001b[0;34m(\u001b[0m\u001b[0;34m\"All arrays must be of the same length\"\u001b[0m\u001b[0;34m)\u001b[0m\u001b[0;34m\u001b[0m\u001b[0;34m\u001b[0m\u001b[0m\n\u001b[0m\u001b[1;32m    667\u001b[0m \u001b[0;34m\u001b[0m\u001b[0m\n\u001b[1;32m    668\u001b[0m             \u001b[0;32mif\u001b[0m \u001b[0mhave_dicts\u001b[0m\u001b[0;34m:\u001b[0m\u001b[0;34m\u001b[0m\u001b[0;34m\u001b[0m\u001b[0m\n",
            "\u001b[0;31mValueError\u001b[0m: All arrays must be of the same length"
          ]
        }
      ]
    },
    {
      "cell_type": "markdown",
      "source": [
        "Now that we have the individual components thought through regarding how to automate collecting data from the website in a format ideal to create a final pandas data frame with, we're ready to combine these steps into one function that will run through the entire process for us and return the data frame as its output.\n",
        "\n",
        "`html_to_pandas` achieves this for us:"
      ],
      "metadata": {
        "id": "M8gItTJ7VpwJ"
      }
    },
    {
      "cell_type": "code",
      "source": [
        "def extract(url):\n",
        "    # Establish our connection to the website and create a Beautiful Soup object\n",
        "    html = urlopen(url)\n",
        "    bs_html = BeautifulSoup(html, 'html.parser')\n",
        "    #Extract desired contents\n",
        "    title = [values.get_text() for values in bs_html.find_all('a', {'class': 'title'})]\n",
        "    links = [values['href'] for values in bs_html.find_all('a', {'class': 'title'})]\n",
        "    desc = [values.get_text() for values in bs_html.find_all('p', {'class': 'description'})]\n",
        "    price = [values.get_text() for values in bs_html.find_all('h4', {'class': 'pull-right price'})]\n",
        "    reviews = [values.get_text() for values in bs_html.find_all('p', {'class': 'pull-right'})]\n",
        "\n",
        "    #Place into data frame\n",
        "    data = pd.DataFrame({\n",
        "    'title': title,\n",
        "    'price': price,\n",
        "    'url': links,\n",
        "    'description': desc,\n",
        "    'reviews': reviews\n",
        "    })\n",
        "\n",
        "    #Output dataframe\n",
        "    return data"
      ],
      "metadata": {
        "id": "YxqZad667BJy"
      },
      "execution_count": null,
      "outputs": []
    },
    {
      "cell_type": "code",
      "source": [
        "data = extract('https://webscraper.io/test-sites/e-commerce/static')\n",
        "display(data)"
      ],
      "metadata": {
        "id": "YuVb10uZ7UUK",
        "colab": {
          "base_uri": "https://localhost:8080/",
          "height": 196
        },
        "outputId": "45348d64-9ea1-4269-8400-fedfe98f0591"
      },
      "execution_count": null,
      "outputs": [
        {
          "output_type": "display_data",
          "data": {
            "text/plain": [
              "                 title     price                                        url  \\\n",
              "0  Dell Latitude 54...  $1271.06  /test-sites/e-commerce/static/product/617   \n",
              "1  Asus VivoBook S1...   $729.00  /test-sites/e-commerce/static/product/535   \n",
              "2  Dell Latitude 55...  $1178.19  /test-sites/e-commerce/static/product/602   \n",
              "\n",
              "                                         description     reviews  \n",
              "0  Dell Latitude 5480, 14\" FHD, Core i7-7600U, 8G...  13 reviews  \n",
              "1  Asus VivoBook S14 (S406UA-BV041T) Starry Grey,...   2 reviews  \n",
              "2  Dell Latitude 5580, 15.6\" FHD, Core i5-7300U, ...   6 reviews  "
            ],
            "text/html": [
              "\n",
              "  <div id=\"df-685ff96b-7f1a-442d-bfb1-739fc8e1da06\" class=\"colab-df-container\">\n",
              "    <div>\n",
              "<style scoped>\n",
              "    .dataframe tbody tr th:only-of-type {\n",
              "        vertical-align: middle;\n",
              "    }\n",
              "\n",
              "    .dataframe tbody tr th {\n",
              "        vertical-align: top;\n",
              "    }\n",
              "\n",
              "    .dataframe thead th {\n",
              "        text-align: right;\n",
              "    }\n",
              "</style>\n",
              "<table border=\"1\" class=\"dataframe\">\n",
              "  <thead>\n",
              "    <tr style=\"text-align: right;\">\n",
              "      <th></th>\n",
              "      <th>title</th>\n",
              "      <th>price</th>\n",
              "      <th>url</th>\n",
              "      <th>description</th>\n",
              "      <th>reviews</th>\n",
              "    </tr>\n",
              "  </thead>\n",
              "  <tbody>\n",
              "    <tr>\n",
              "      <th>0</th>\n",
              "      <td>Dell Latitude 54...</td>\n",
              "      <td>$1271.06</td>\n",
              "      <td>/test-sites/e-commerce/static/product/617</td>\n",
              "      <td>Dell Latitude 5480, 14\" FHD, Core i7-7600U, 8G...</td>\n",
              "      <td>13 reviews</td>\n",
              "    </tr>\n",
              "    <tr>\n",
              "      <th>1</th>\n",
              "      <td>Asus VivoBook S1...</td>\n",
              "      <td>$729.00</td>\n",
              "      <td>/test-sites/e-commerce/static/product/535</td>\n",
              "      <td>Asus VivoBook S14 (S406UA-BV041T) Starry Grey,...</td>\n",
              "      <td>2 reviews</td>\n",
              "    </tr>\n",
              "    <tr>\n",
              "      <th>2</th>\n",
              "      <td>Dell Latitude 55...</td>\n",
              "      <td>$1178.19</td>\n",
              "      <td>/test-sites/e-commerce/static/product/602</td>\n",
              "      <td>Dell Latitude 5580, 15.6\" FHD, Core i5-7300U, ...</td>\n",
              "      <td>6 reviews</td>\n",
              "    </tr>\n",
              "  </tbody>\n",
              "</table>\n",
              "</div>\n",
              "    <div class=\"colab-df-buttons\">\n",
              "\n",
              "  <div class=\"colab-df-container\">\n",
              "    <button class=\"colab-df-convert\" onclick=\"convertToInteractive('df-685ff96b-7f1a-442d-bfb1-739fc8e1da06')\"\n",
              "            title=\"Convert this dataframe to an interactive table.\"\n",
              "            style=\"display:none;\">\n",
              "\n",
              "  <svg xmlns=\"http://www.w3.org/2000/svg\" height=\"24px\" viewBox=\"0 -960 960 960\">\n",
              "    <path d=\"M120-120v-720h720v720H120Zm60-500h600v-160H180v160Zm220 220h160v-160H400v160Zm0 220h160v-160H400v160ZM180-400h160v-160H180v160Zm440 0h160v-160H620v160ZM180-180h160v-160H180v160Zm440 0h160v-160H620v160Z\"/>\n",
              "  </svg>\n",
              "    </button>\n",
              "\n",
              "  <style>\n",
              "    .colab-df-container {\n",
              "      display:flex;\n",
              "      gap: 12px;\n",
              "    }\n",
              "\n",
              "    .colab-df-convert {\n",
              "      background-color: #E8F0FE;\n",
              "      border: none;\n",
              "      border-radius: 50%;\n",
              "      cursor: pointer;\n",
              "      display: none;\n",
              "      fill: #1967D2;\n",
              "      height: 32px;\n",
              "      padding: 0 0 0 0;\n",
              "      width: 32px;\n",
              "    }\n",
              "\n",
              "    .colab-df-convert:hover {\n",
              "      background-color: #E2EBFA;\n",
              "      box-shadow: 0px 1px 2px rgba(60, 64, 67, 0.3), 0px 1px 3px 1px rgba(60, 64, 67, 0.15);\n",
              "      fill: #174EA6;\n",
              "    }\n",
              "\n",
              "    .colab-df-buttons div {\n",
              "      margin-bottom: 4px;\n",
              "    }\n",
              "\n",
              "    [theme=dark] .colab-df-convert {\n",
              "      background-color: #3B4455;\n",
              "      fill: #D2E3FC;\n",
              "    }\n",
              "\n",
              "    [theme=dark] .colab-df-convert:hover {\n",
              "      background-color: #434B5C;\n",
              "      box-shadow: 0px 1px 3px 1px rgba(0, 0, 0, 0.15);\n",
              "      filter: drop-shadow(0px 1px 2px rgba(0, 0, 0, 0.3));\n",
              "      fill: #FFFFFF;\n",
              "    }\n",
              "  </style>\n",
              "\n",
              "    <script>\n",
              "      const buttonEl =\n",
              "        document.querySelector('#df-685ff96b-7f1a-442d-bfb1-739fc8e1da06 button.colab-df-convert');\n",
              "      buttonEl.style.display =\n",
              "        google.colab.kernel.accessAllowed ? 'block' : 'none';\n",
              "\n",
              "      async function convertToInteractive(key) {\n",
              "        const element = document.querySelector('#df-685ff96b-7f1a-442d-bfb1-739fc8e1da06');\n",
              "        const dataTable =\n",
              "          await google.colab.kernel.invokeFunction('convertToInteractive',\n",
              "                                                    [key], {});\n",
              "        if (!dataTable) return;\n",
              "\n",
              "        const docLinkHtml = 'Like what you see? Visit the ' +\n",
              "          '<a target=\"_blank\" href=https://colab.research.google.com/notebooks/data_table.ipynb>data table notebook</a>'\n",
              "          + ' to learn more about interactive tables.';\n",
              "        element.innerHTML = '';\n",
              "        dataTable['output_type'] = 'display_data';\n",
              "        await google.colab.output.renderOutput(dataTable, element);\n",
              "        const docLink = document.createElement('div');\n",
              "        docLink.innerHTML = docLinkHtml;\n",
              "        element.appendChild(docLink);\n",
              "      }\n",
              "    </script>\n",
              "  </div>\n",
              "\n",
              "\n",
              "<div id=\"df-361e2931-97f2-4eb2-b9d6-c8251868346b\">\n",
              "  <button class=\"colab-df-quickchart\" onclick=\"quickchart('df-361e2931-97f2-4eb2-b9d6-c8251868346b')\"\n",
              "            title=\"Suggest charts.\"\n",
              "            style=\"display:none;\">\n",
              "\n",
              "<svg xmlns=\"http://www.w3.org/2000/svg\" height=\"24px\"viewBox=\"0 0 24 24\"\n",
              "     width=\"24px\">\n",
              "    <g>\n",
              "        <path d=\"M19 3H5c-1.1 0-2 .9-2 2v14c0 1.1.9 2 2 2h14c1.1 0 2-.9 2-2V5c0-1.1-.9-2-2-2zM9 17H7v-7h2v7zm4 0h-2V7h2v10zm4 0h-2v-4h2v4z\"/>\n",
              "    </g>\n",
              "</svg>\n",
              "  </button>\n",
              "\n",
              "<style>\n",
              "  .colab-df-quickchart {\n",
              "      --bg-color: #E8F0FE;\n",
              "      --fill-color: #1967D2;\n",
              "      --hover-bg-color: #E2EBFA;\n",
              "      --hover-fill-color: #174EA6;\n",
              "      --disabled-fill-color: #AAA;\n",
              "      --disabled-bg-color: #DDD;\n",
              "  }\n",
              "\n",
              "  [theme=dark] .colab-df-quickchart {\n",
              "      --bg-color: #3B4455;\n",
              "      --fill-color: #D2E3FC;\n",
              "      --hover-bg-color: #434B5C;\n",
              "      --hover-fill-color: #FFFFFF;\n",
              "      --disabled-bg-color: #3B4455;\n",
              "      --disabled-fill-color: #666;\n",
              "  }\n",
              "\n",
              "  .colab-df-quickchart {\n",
              "    background-color: var(--bg-color);\n",
              "    border: none;\n",
              "    border-radius: 50%;\n",
              "    cursor: pointer;\n",
              "    display: none;\n",
              "    fill: var(--fill-color);\n",
              "    height: 32px;\n",
              "    padding: 0;\n",
              "    width: 32px;\n",
              "  }\n",
              "\n",
              "  .colab-df-quickchart:hover {\n",
              "    background-color: var(--hover-bg-color);\n",
              "    box-shadow: 0 1px 2px rgba(60, 64, 67, 0.3), 0 1px 3px 1px rgba(60, 64, 67, 0.15);\n",
              "    fill: var(--button-hover-fill-color);\n",
              "  }\n",
              "\n",
              "  .colab-df-quickchart-complete:disabled,\n",
              "  .colab-df-quickchart-complete:disabled:hover {\n",
              "    background-color: var(--disabled-bg-color);\n",
              "    fill: var(--disabled-fill-color);\n",
              "    box-shadow: none;\n",
              "  }\n",
              "\n",
              "  .colab-df-spinner {\n",
              "    border: 2px solid var(--fill-color);\n",
              "    border-color: transparent;\n",
              "    border-bottom-color: var(--fill-color);\n",
              "    animation:\n",
              "      spin 1s steps(1) infinite;\n",
              "  }\n",
              "\n",
              "  @keyframes spin {\n",
              "    0% {\n",
              "      border-color: transparent;\n",
              "      border-bottom-color: var(--fill-color);\n",
              "      border-left-color: var(--fill-color);\n",
              "    }\n",
              "    20% {\n",
              "      border-color: transparent;\n",
              "      border-left-color: var(--fill-color);\n",
              "      border-top-color: var(--fill-color);\n",
              "    }\n",
              "    30% {\n",
              "      border-color: transparent;\n",
              "      border-left-color: var(--fill-color);\n",
              "      border-top-color: var(--fill-color);\n",
              "      border-right-color: var(--fill-color);\n",
              "    }\n",
              "    40% {\n",
              "      border-color: transparent;\n",
              "      border-right-color: var(--fill-color);\n",
              "      border-top-color: var(--fill-color);\n",
              "    }\n",
              "    60% {\n",
              "      border-color: transparent;\n",
              "      border-right-color: var(--fill-color);\n",
              "    }\n",
              "    80% {\n",
              "      border-color: transparent;\n",
              "      border-right-color: var(--fill-color);\n",
              "      border-bottom-color: var(--fill-color);\n",
              "    }\n",
              "    90% {\n",
              "      border-color: transparent;\n",
              "      border-bottom-color: var(--fill-color);\n",
              "    }\n",
              "  }\n",
              "</style>\n",
              "\n",
              "  <script>\n",
              "    async function quickchart(key) {\n",
              "      const quickchartButtonEl =\n",
              "        document.querySelector('#' + key + ' button');\n",
              "      quickchartButtonEl.disabled = true;  // To prevent multiple clicks.\n",
              "      quickchartButtonEl.classList.add('colab-df-spinner');\n",
              "      try {\n",
              "        const charts = await google.colab.kernel.invokeFunction(\n",
              "            'suggestCharts', [key], {});\n",
              "      } catch (error) {\n",
              "        console.error('Error during call to suggestCharts:', error);\n",
              "      }\n",
              "      quickchartButtonEl.classList.remove('colab-df-spinner');\n",
              "      quickchartButtonEl.classList.add('colab-df-quickchart-complete');\n",
              "    }\n",
              "    (() => {\n",
              "      let quickchartButtonEl =\n",
              "        document.querySelector('#df-361e2931-97f2-4eb2-b9d6-c8251868346b button');\n",
              "      quickchartButtonEl.style.display =\n",
              "        google.colab.kernel.accessAllowed ? 'block' : 'none';\n",
              "    })();\n",
              "  </script>\n",
              "</div>\n",
              "    </div>\n",
              "  </div>\n"
            ]
          },
          "metadata": {}
        }
      ]
    },
    {
      "cell_type": "markdown",
      "source": [
        "We've successfully gone from a whole jumble of HTML and website text to a ordered DataFrame with the exact information we're interested in via Beautiful Soup. In an actual web scraping data collection workflow you'd likely save the above data frame to your personal computer such as via a CSV file."
      ],
      "metadata": {
        "id": "I73Oy40K7aBN"
      }
    },
    {
      "cell_type": "markdown",
      "source": [
        "##BS4 Exercise\n",
        "Goal: Extract job title, job link, brief description provided.\n",
        "Website URL :\n",
        "https://pythonjobs.github.io/\n",
        "\n",
        "Fill in the blank code:\n",
        "https://colab.research.google.com/drive/1Qv-qfO-ZWlI375GFRcOaNXVDq7a3WeTq#scrollTo=TDpQlqUNFNwQ\n",
        "\n",
        "\n",
        "\n",
        "\n"
      ],
      "metadata": {
        "id": "_TrOGmFeA-RC"
      }
    }
  ]
}